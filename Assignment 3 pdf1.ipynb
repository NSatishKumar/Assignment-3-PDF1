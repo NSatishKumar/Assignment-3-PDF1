{
 "cells": [
  {
   "cell_type": "markdown",
   "metadata": {},
   "source": [
    "## Write a Python Program(with class concepts) to find the area of the triangle using the below  formula.  \n",
    "  \n",
    "area       (s*(s-a)*(s-b)*(s-c))***0.5  \n",
    "  \n",
    "Function to take the length of the sides of triangle from user should be defined in the parent  \n",
    "class and function to calculate the area should be defined in subclass."
   ]
  },
  {
   "cell_type": "code",
   "execution_count": 1,
   "metadata": {},
   "outputs": [
    {
     "name": "stdout",
     "output_type": "stream",
     "text": [
      "Enter the first sde 4\n",
      "Enter the second side 3\n",
      "Enter the third side 5\n",
      "First side:  4\n",
      "Second side:  3\n",
      "Third side:  5\n",
      "Area of the triangle is  6.0\n"
     ]
    }
   ],
   "source": [
    "\n",
    "class parentClass:                                                    # Defining the Parent class\n",
    "    def __init__(self):\n",
    "        first_side=\"\"                                                 # Defining the atributes\n",
    "        second_side=\"\"\n",
    "        third_side=\"\"\n",
    "    \n",
    "    def inputsidevalues(self):                                         # Defining the input function to recieve inputs\n",
    "        a=input(\"Enter the first sde \")\n",
    "        self.first_side=a\n",
    "        b=input(\"Enter the second side \")\n",
    "        self.second_side=b\n",
    "        c=input(\"Enter the third side \")\n",
    "        self.third_side=c\n",
    "        if a.isdigit() and b.isdigit() and c.isdigit():\n",
    "            return True\n",
    "        else:\n",
    "            return False\n",
    "        \n",
    "    def displaysides(self):                                           # Defining the display function to display inputs\n",
    "        print(\"First side: \", self.first_side)\n",
    "        print(\"Second side: \", self.second_side)\n",
    "        print(\"Third side: \", self.third_side)\n",
    "        \n",
    "class childClass(parentClass):                                        # Defining the child class\n",
    "    def __init__(self):\n",
    "        parentClass.__init__(self)\n",
    "    \n",
    "    def findArea(self):                                               # Defining the funcition to calculate the Area\n",
    "        a=float(self.first_side)\n",
    "        b=float(self.second_side)\n",
    "        c=float(self.third_side)\n",
    "        s=float(a+b+c)/2\n",
    "        areavalue=(s*(s-a)*(s-b)*(s-c))**0.5\n",
    "        print(\"Area of the triangle is \",areavalue)                  # printing the area value\n",
    "\n",
    "pcVar=childClass()                                                   # Creating a object for child class\n",
    "flag=pcVar.inputsidevalues()                                              # Calling the inputsidevalues function\n",
    "pcVar.displaysides()                                                 #Calling the displaysides function \n",
    "if flag==True:\n",
    "    pcVar.findArea()                                                     #Calling the findarea function\n",
    "else:\n",
    "    print(\"Enter the numbers\")"
   ]
  },
  {
   "cell_type": "markdown",
   "metadata": {},
   "source": [
    "## Write a function filter_long_words() that takes a list of words and an integer n and returns   the list of words that are longer than n."
   ]
  },
  {
   "cell_type": "code",
   "execution_count": 2,
   "metadata": {},
   "outputs": [
    {
     "name": "stdout",
     "output_type": "stream",
     "text": [
      "Enter the words with comma separated  the,there,at,I,this,we\n",
      "Enter the threshold value n 2\n",
      "Input values are   ['the', 'there', 'at', 'I', 'this', 'we']\n",
      "Given threshold value  2.0\n",
      "The longest words are  ['the', 'there', 'this']\n"
     ]
    }
   ],
   "source": [
    "# Uisng functions\n",
    "def calLongestVal():                                                    # defining the function to longest words\n",
    "    inputval=input(\"Enter the words with comma separated  \")                # to receive the list of words\n",
    "    listvalue=inputval.split(',')\n",
    "    thresholdVal=float(input(\"Enter the threshold value n \"))          # to receive the threshold (n) value\n",
    "    outputlist=[]\n",
    "    print(\"Input values are  \",listvalue)\n",
    "    print(\"Given threshold value \",thresholdVal)\n",
    "    for item in listvalue:                                                 # looping each item to calculate longest word\n",
    "        if(float(len(item)) > float(thresholdVal)):               # checking the length of word with thresholdvalue\n",
    "            outputlist.append(item)                               # Storing all the ouput words \n",
    "    print(\"The longest words are \",outputlist)                         # function to display the output\n",
    "        \n",
    "\n",
    "calLongestVal()                                                        # Calling the longest word calculating function"
   ]
  },
  {
   "cell_type": "code",
   "execution_count": 3,
   "metadata": {},
   "outputs": [
    {
     "name": "stdout",
     "output_type": "stream",
     "text": [
      "Enter the words with comma separated  the,there,at,I,this,we\n",
      "Enter the threshold value n 2\n",
      "Input values are   ['the', 'there', 'at', 'I', 'this', 'we']\n",
      "Given threshold value  2.0\n",
      "The longest words are  ['the', 'there', 'this']\n"
     ]
    }
   ],
   "source": [
    "#Using Class\n",
    "class Classlongest:                                                             # Defining a class\n",
    "    def __init__(self):                                                         # Defining the __init__ function\n",
    "        listvalue=[]                                                            # Defining the attributes\n",
    "        outputlist=[]\n",
    "        thresholdVal=\"\"\n",
    "        \n",
    "    def inputval(self):                                                         # defining the function to receive the inputs\n",
    "        inputval=input(\"Enter the words with comma separated  \")                # to receive the list of words\n",
    "        self.listvalue=inputval.split(',')\n",
    "        self.thresholdVal=float(input(\"Enter the threshold value n \"))          # to receive the threshold (n) value\n",
    "        self.outputlist=[]\n",
    "    def calLongestVal(self):                                                    # defining the function to longest words\n",
    "        print(\"Input values are  \",self.listvalue )\n",
    "        print(\"Given threshold value \", self.thresholdVal)\n",
    "        for self.item in self.listvalue:                                        # looping each item to calculate longest word\n",
    "            if(float(len(self.item)) > float(self.thresholdVal)):               # checking the length of word with thresholdvalue\n",
    "                self.outputlist.append(self.item)                               # Storing all the ouput words \n",
    "    def displayLongest(self):                                                   # function to display the output\n",
    "        print(\"The longest words are \",self.outputlist)\n",
    "\n",
    "pclongVar=Classlongest()                                                        # Creating an oject for class \n",
    "pclongVar.inputval()                                                             # Calling the input fucntion\n",
    "pclongVar.calLongestVal()                                                        # Calling the longest word calculating fucntion\n",
    "pclongVar.displayLongest()                                                        # Claling the display function"
   ]
  },
  {
   "cell_type": "markdown",
   "metadata": {},
   "source": [
    "## 2.1  Write a Python program using function concept that maps  list of words into a list of integers representing the lengths of the corresponding words​.  \n",
    "              \n",
    "Hint: ​If a list [ ab,cde,erty] is passed on to the python function output should come as [2,3,4]  \n",
    "  \n",
    "Here 2,3 and 4 are the lengths of the words in the list. "
   ]
  },
  {
   "cell_type": "code",
   "execution_count": 4,
   "metadata": {},
   "outputs": [
    {
     "name": "stdout",
     "output_type": "stream",
     "text": [
      "Enter the words with comma separated  ab,cde,erty\n",
      "Input values are   ['ab', 'cde', 'erty']\n",
      "The longest words are  [2, 3, 4]\n"
     ]
    }
   ],
   "source": [
    "# Usin Functions\n",
    "def callenVal():                                                       # Function to calculate the length of each word\n",
    "    inputvalmap=input(\"Enter the words with comma separated  \")\n",
    "    inpvaluemap=inputvalmap.split(',')                                # Spliting basedupon Comma and storing in a list\n",
    "    outmap=[]\n",
    "    print(\"Input values are  \",inpvaluemap )\n",
    "    for item in inpvaluemap:\n",
    "        outmap.append(len(item))                                 # String the legth of all input words\n",
    "    print(\"The longest words are \",outmap)\n",
    "\n",
    "callenVal()                                                           # Calling the length calculation function\n"
   ]
  },
  {
   "cell_type": "code",
   "execution_count": 5,
   "metadata": {},
   "outputs": [
    {
     "name": "stdout",
     "output_type": "stream",
     "text": [
      "Enter the words with comma separated  ab,cde,erty\n",
      "Input values are   ['ab', 'cde', 'erty']\n",
      "The longest words are  [2, 3, 4]\n"
     ]
    }
   ],
   "source": [
    "# Usin Class\n",
    "class Classmapping:                                                             # Defining a class\n",
    "    def __init__(self):                                                         # Defining the __init__ function\n",
    "        inpvaluemap=[]                                                          # Defining the attributes\n",
    "        outmap=[]\n",
    "        \n",
    "    def inputvalmap(self):                                                     # defining the function to receive the inputs\n",
    "        inputvalmap=input(\"Enter the words with comma separated  \")\n",
    "        self.inpvaluemap=inputvalmap.split(',')                                # Spliting basedupon Comma and storing in a list\n",
    "        self.outmap=[]\n",
    "\n",
    "    def callenVal(self):                                                       # Function to calculate the length of each word\n",
    "        print(\"Input values are  \",self.inpvaluemap )\n",
    "        for self.item in self.inpvaluemap:\n",
    "            self.outmap.append(len(self.item))                                 # String the legth of all input words\n",
    "    \n",
    "    def displayoutput(self):                                                   # Function to display the output\n",
    "        print(\"The longest words are \",self.outmap)\n",
    "\n",
    "pcmapVar=Classmapping()                                                        # Creating a object to class\n",
    "pcmapVar.inputvalmap()                                                         # Calling the input function\n",
    "pcmapVar.callenVal()                                                           # Calling the length calculation function\n",
    "pcmapVar.displayoutput()                                                       # Calling the output display function"
   ]
  },
  {
   "cell_type": "markdown",
   "metadata": {},
   "source": [
    "## Write a Python function which takes a character (i.e. a string of length 1) and returns True if   it is a vowel, False otherwise."
   ]
  },
  {
   "cell_type": "code",
   "execution_count": 6,
   "metadata": {},
   "outputs": [
    {
     "name": "stdout",
     "output_type": "stream",
     "text": [
      "Enter a single character u\n",
      "Input character is  u\n",
      "Input character is a vowel\n"
     ]
    }
   ],
   "source": [
    "# Using Functions\n",
    "def inputvalvowel():                                        # Defining a function to recieve input\n",
    "    inp=input(\"Enter a single character \")\n",
    "    outvowel=[]\n",
    "    inpvaluevowel=inp\n",
    "    print(\"Input character is \",inpvaluevowel)\n",
    "    if(len(inp)>1):                                             # Validating the input whether it is single character or not\n",
    "        print(\"Enter only one character\")                       # INformaing the user if input is not a single character\n",
    "    else:\n",
    "        inpvaluevowel=inpvaluevowel.lower()           \n",
    "        if(inpvaluevowel in 'aeiou'):                      # Checking whether input is a vowel or not\n",
    "            print(\"Input character is a vowel\")\n",
    "        else:\n",
    "            print(\"Input character is not a vowel\")\n",
    "    \n",
    "            \n",
    "inputvalvowel()                                      # Calling input function\n"
   ]
  },
  {
   "cell_type": "code",
   "execution_count": 7,
   "metadata": {},
   "outputs": [
    {
     "name": "stdout",
     "output_type": "stream",
     "text": [
      "Enter a single character i\n",
      "Input character is  i\n",
      "Input character is a vowel\n"
     ]
    }
   ],
   "source": [
    "#Using Class\n",
    "class Classvowel:                                                    # Defining a Class \n",
    "    def __init__(self):                                              # Defining the __init__ function   \n",
    "        inpvaluevowel=[]                                             # Defining the attributes\n",
    "        outvowel=[]\n",
    "        \n",
    "    def inputvalvowel(self):                                        # Defining a function to recieve input\n",
    "        inp=input(\"Enter a single character \")\n",
    "        self.outvowel=[]\n",
    "        self.inpvaluevowel=inp\n",
    "        print(\"Input character is \",self.inpvaluevowel)\n",
    "        if(len(inp)>1):                                             # Validating the input whether it is single character or not\n",
    "            print(\"Enter only one character\")                       # INformaing the user if input is not a single character\n",
    "            return False\n",
    "        return True\n",
    "\n",
    "    def checkvowel(self):                                           # Defining the function to check input is vowel or not\n",
    "            self.inpvaluevowel=self.inpvaluevowel.lower()           \n",
    "            if(self.inpvaluevowel in 'aeiou'):                      # Checking whether input is a vowel or not\n",
    "                print(\"Input character is a vowel\")\n",
    "            else:\n",
    "                print(\"Input character is not a vowel\")\n",
    "\n",
    "pcvowelVar=Classvowel()                                             # Creating an object \n",
    "flag=pcvowelVar.inputvalvowel()                                      # Calling input function\n",
    "if(flag==True):                                                     # Checking whether return of inputvalvowel() is true or not\n",
    "    pcvowelVar.checkvowel()                                         # Calling the Check vowel function"
   ]
  },
  {
   "cell_type": "code",
   "execution_count": null,
   "metadata": {},
   "outputs": [],
   "source": []
  }
 ],
 "metadata": {
  "kernelspec": {
   "display_name": "Python 3",
   "language": "python",
   "name": "python3"
  },
  "language_info": {
   "codemirror_mode": {
    "name": "ipython",
    "version": 3
   },
   "file_extension": ".py",
   "mimetype": "text/x-python",
   "name": "python",
   "nbconvert_exporter": "python",
   "pygments_lexer": "ipython3",
   "version": "3.7.0"
  }
 },
 "nbformat": 4,
 "nbformat_minor": 2
}
